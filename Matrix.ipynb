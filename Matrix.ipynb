{
 "cells": [
  {
   "cell_type": "markdown",
   "metadata": {
    "collapsed": false
   },
   "source": [
    "Name: Julie Gardner-Hoag, Aly Baughman, Ehsan Yaghmaei<br>\n",
    "Student ID: 2299636, 1923165, 2285887<br>\n",
    "Email: gardnerh@chapman.edu, baugh107@mail.chapman.edu, yaghm101@mail.chapman.edu<br>\n",
    "Course: CS510 Fall 2017<br>\n",
    "CW 13"
   ]
  },
  {
   "cell_type": "markdown",
   "metadata": {
    "collapsed": false
   },
   "source": [
    "## Matrix ##"
   ]
  },
  {
   "cell_type": "markdown",
   "metadata": {
    "collapsed": false
   },
   "source": [
    "Explain code"
   ]
  },
  {
   "cell_type": "markdown",
   "metadata": {
    "collapsed": false
   },
   "source": [
    "In C++, a template allows functions and classes to operate with generic types. Having a template allows a class or function to work on different data types without having to rewrite any code. C can't use templates because you can't have functions with the same name."
   ]
  },
  {
   "cell_type": "markdown",
   "metadata": {
    "collapsed": false
   },
   "source": [
    "Operator overloading is when we redefine operators such as +, - and = to have different behaviors in our code.<br>\n",
    "Assignment = operator, Addition + operator and Selection operator (i,j) to access elements are the operators being overloaded in Matrix."
   ]
  }
 ],
 "metadata": {
  "kernelspec": {
   "display_name": "Bash (Linux)",
   "language": "bash",
   "name": "bash"
  },
  "language_info": {
   "codemirror_mode": "shell",
   "file_extension": ".sh",
   "mimetype": "text/x-sh",
   "name": "bash"
  }
 },
 "nbformat": 4,
 "nbformat_minor": 0
}