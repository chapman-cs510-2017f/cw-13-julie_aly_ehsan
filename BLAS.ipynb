{
 "cells": [
  {
   "cell_type": "markdown",
   "metadata": {
    "collapsed": false
   },
   "source": [
    "### BLAS Code Analysis"
   ]
  },
  {
   "cell_type": "markdown",
   "metadata": {
    "collapsed": false
   },
   "source": [
    "```\n",
    "#include <boost/numeric/ublas/matrix.hpp>\n",
    "#include <boost/numeric/ublas/io.hpp>\n",
    "\n",
    "int main(int argc, char **argv) \n",
    "{\n",
    "  // exploit namespaces to shorten code\n",
    "  using namespace boost::numeric::ublas;\n",
    "  using std::cout; \n",
    "  using std::endl;\n",
    "\n",
    "  // declare three 3x3 matrices of complex<long double> elements\n",
    "  matrix<std::complex<long double> > m(3, 3), n(3, 3), o(3, 3);\n",
    "\n",
    "  // iterate over 3x3 matrix entries\n",
    "  // r : row index\n",
    "  // c : column index\n",
    "  for (unsigned r = 0; r < m.size1(); r++) {\n",
    "    for (unsigned c = 0; c < m.size2(); c++) {\n",
    "      // enumerated matrix entries\n",
    "      m(r,c) = 3 * r + c;\n",
    "\n",
    "      // complex numbers designating rows and cols\n",
    "      n(r,c) = r + c * std::complex<long double>(0,1); \n",
    "\n",
    "      // elementwise square of n\n",
    "      o(r,c) = std::pow(n(r,c), 2);\n",
    "    }\n",
    "  }\n",
    "\n",
    "  // print to screen as demonstration\n",
    "  cout << \"m:\" << endl;\n",
    "  cout << m << endl;\n",
    "  cout << endl << \"n:\" << endl;\n",
    "  cout << n << endl;\n",
    "  cout << endl << \"o:\" << endl;\n",
    "  cout << n << endl;\n",
    "  cout << endl << \"m + n:\" << endl;\n",
    "  cout << m + n << endl;\n",
    "  cout << endl << \"m * n:\" << endl;\n",
    "  cout << prod(m, n) << endl;\n",
    "  cout << endl << \"n * n - o:\" << endl;\n",
    "  cout << prod(n, n) - o << endl;\n",
    "}\n",
    "```"
   ]
  },
  {
   "cell_type": "markdown",
   "metadata": {
    "collapsed": false
   },
   "source": [
    "**Code Description**\n",
    "\n",
    "First, in order to shorten the code, namespaces are used. The BLAS code puts a complex number into a 3x3 matrix. It uses the boost C++ library to pull in all of the operators on matrices that are needed. All of the methods are included in the library which greatly shortens the code needed in the boost_matrix C++ file. Rows and columns are designated. The output is printed to the screen for the various variables such as m, n, and o along with the output for various operations on the variables."
   ]
  },
  {
   "cell_type": "markdown",
   "metadata": {
    "collapsed": false
   },
   "source": [
    "**Complexity**\n",
    "\n",
    "The code looks to be easier to follow than what we wrote for Stack and Queue."
   ]
  },
  {
   "cell_type": "markdown",
   "metadata": {
    "collapsed": false
   },
   "source": [
    "**Notation <type>**\n",
    "\n",
    "In the code, complex<long double> means that the type of the complex number can be converted to another type, if needed."
   ]
  },
  {
   "cell_type": "markdown",
   "metadata": {
    "collapsed": false
   },
   "source": [
    "**Row-major or column-major?**\n",
    "\n",
    "BLAS matrices are row-major because column values are nested with-in the for loop for row values. "
   ]
  }
 ],
 "metadata": {
  "kernelspec": {
   "display_name": "Bash (Linux)",
   "language": "bash",
   "name": "bash"
  }
 },
 "nbformat": 4,
 "nbformat_minor": 0
}